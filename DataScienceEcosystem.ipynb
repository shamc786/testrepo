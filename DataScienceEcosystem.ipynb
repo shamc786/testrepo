{
 "cells": [
  {
   "cell_type": "markdown",
   "id": "bb237f64-aa19-49a5-901f-392f372fa2fc",
   "metadata": {},
   "source": [
    "# Data Science Tools and Ecosystem"
   ]
  },
  {
   "cell_type": "markdown",
   "id": "fea7238e-d57e-4d03-b954-0ebffb4a9775",
   "metadata": {},
   "source": [
    "# Introduction\n",
    "In this notebook, Data Science Tools and Ecosystem are summarized"
   ]
  },
  {
   "cell_type": "markdown",
   "id": "cf816aa8-74d8-433b-9fee-aa33004af424",
   "metadata": {},
   "source": [
    "**Objectives:**\n",
    "* List Data Science Languages\n",
    "* List Data Science Libraries\n",
    "* Evaluate arithmetic expressions\n"
   ]
  },
  {
   "cell_type": "markdown",
   "id": "81cbc4dd-f93c-42f4-8fcc-92d5786a7594",
   "metadata": {},
   "source": [
    "# Data Science Languages\n",
    "Some of the popular languages Data Scientists use are:\n",
    "1. **Python**\n",
    "2. **R**\n",
    "3. **SQL**\n",
    "4. **Julia**"
   ]
  },
  {
   "cell_type": "markdown",
   "id": "7641e0e2-1ea4-48a0-9df7-8eb1417168f8",
   "metadata": {},
   "source": [
    "# Data Science Libraries\n",
    "Some of the commonly used libraries used by Data Scientists include:\n",
    "1. **Numpy**\n",
    "2. **Pandas**\n",
    "3. **TensorFlow**\n",
    "4. **Seaborn**"
   ]
  },
  {
   "cell_type": "markdown",
   "id": "125850d9-a5c9-411f-9893-b9a4169a17b6",
   "metadata": {},
   "source": [
    "| Data Sciene Tool |\n",
    "| --- |\n",
    "| Jupyter Notebook |\n",
    "| python |\n",
    "| R Studio |"
   ]
  },
  {
   "cell_type": "markdown",
   "id": "309dd1a1-d52b-47a1-bcad-4ae78421e814",
   "metadata": {},
   "source": [
    "### Below are a few examples of evaluating arithmetic expressions in Python.\n"
   ]
  },
  {
   "cell_type": "code",
   "execution_count": 3,
   "id": "66ad4071-fbcf-4d78-a502-410e7992c777",
   "metadata": {},
   "outputs": [
    {
     "name": "stdout",
     "output_type": "stream",
     "text": [
      "17\n"
     ]
    }
   ],
   "source": [
    "# This is a simple arithmetic expression to multiply then add intigers.\n",
    "result = (3*4)+5\n",
    "print(result)\n"
   ]
  },
  {
   "cell_type": "code",
   "execution_count": 4,
   "id": "ae722013-06a2-470f-9628-5c9a204a0d3c",
   "metadata": {},
   "outputs": [
    {
     "name": "stdout",
     "output_type": "stream",
     "text": [
      "3.3333333333333335\n"
     ]
    }
   ],
   "source": [
    "# This will convert 200 minutes to hours by diving by 60.\n",
    "hours = 200/60\n",
    "print(hours)"
   ]
  },
  {
   "cell_type": "markdown",
   "id": "dd2f9c13-ebc0-4063-824f-1757f4b0e550",
   "metadata": {},
   "source": [
    "# Author\n",
    "Fathimath Shamseera.KP."
   ]
  }
 ],
 "metadata": {
  "kernelspec": {
   "display_name": "Python 3 (ipykernel)",
   "language": "python",
   "name": "python3"
  },
  "language_info": {
   "codemirror_mode": {
    "name": "ipython",
    "version": 3
   },
   "file_extension": ".py",
   "mimetype": "text/x-python",
   "name": "python",
   "nbconvert_exporter": "python",
   "pygments_lexer": "ipython3",
   "version": "3.12.8"
  }
 },
 "nbformat": 4,
 "nbformat_minor": 5
}
